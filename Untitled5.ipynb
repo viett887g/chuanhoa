{
  "nbformat": 4,
  "nbformat_minor": 0,
  "metadata": {
    "colab": {
      "provenance": [],
      "authorship_tag": "ABX9TyNDmz3Na9bETec6MaWiPxCj",
      "include_colab_link": true
    },
    "kernelspec": {
      "name": "python3",
      "display_name": "Python 3"
    },
    "language_info": {
      "name": "python"
    }
  },
  "cells": [
    {
      "cell_type": "markdown",
      "metadata": {
        "id": "view-in-github",
        "colab_type": "text"
      },
      "source": [
        "<a href=\"https://colab.research.google.com/github/viett887g/chuanhoa/blob/main/Untitled5.ipynb\" target=\"_parent\"><img src=\"https://colab.research.google.com/assets/colab-badge.svg\" alt=\"Open In Colab\"/></a>"
      ]
    },
    {
      "cell_type": "code",
      "execution_count": 6,
      "metadata": {
        "id": "eCLY9KCKG9EF"
      },
      "outputs": [],
      "source": [
        "import numpy as np"
      ]
    },
    {
      "cell_type": "code",
      "source": [
        "from sklearn import preprocessing"
      ],
      "metadata": {
        "id": "VKjc82W-IfyV"
      },
      "execution_count": 11,
      "outputs": []
    },
    {
      "cell_type": "markdown",
      "source": [
        " Dữ liệu không được chuẩn hóa"
      ],
      "metadata": {
        "id": "-4eH3LSNKvH8"
      }
    },
    {
      "cell_type": "code",
      "source": [
        "f1=pd.read_csv(\"/content/ex1data2.txt\")\n",
        "print(f1)"
      ],
      "metadata": {
        "colab": {
          "base_uri": "https://localhost:8080/"
        },
        "id": "P6FeVXB_H2EA",
        "outputId": "051a1718-9504-49e3-b10d-2aa4090ccf37"
      },
      "execution_count": 84,
      "outputs": [
        {
          "output_type": "stream",
          "name": "stdout",
          "text": [
            "    2104  3  399900\n",
            "0   1600  3  329900\n",
            "1   2400  3  369000\n",
            "2   1416  2  232000\n",
            "3   3000  4  539900\n",
            "4   1985  4  299900\n",
            "5   1534  3  314900\n",
            "6   1427  3  198999\n",
            "7   1380  3  212000\n",
            "8   1494  3  242500\n",
            "9   1940  4  239999\n",
            "10  2000  3  347000\n",
            "11  1890  3  329999\n",
            "12  4478  5  699900\n",
            "13  1268  3  259900\n",
            "14  2300  4  449900\n",
            "15  1320  2  299900\n",
            "16  1236  3  199900\n",
            "17  2609  4  499998\n",
            "18  3031  4  599000\n",
            "19  1767  3  252900\n",
            "20  1888  2  255000\n",
            "21  1604  3  242900\n",
            "22  1962  4  259900\n",
            "23  3890  3  573900\n",
            "24  1100  3  249900\n",
            "25  1458  3  464500\n",
            "26  2526  3  469000\n",
            "27  2200  3  475000\n",
            "28  2637  3  299900\n",
            "29  1839  2  349900\n",
            "30  1000  1  169900\n",
            "31  2040  4  314900\n",
            "32  3137  3  579900\n",
            "33  1811  4  285900\n",
            "34  1437  3  249900\n",
            "35  1239  3  229900\n",
            "36  2132  4  345000\n",
            "37  4215  4  549000\n",
            "38  2162  4  287000\n",
            "39  1664  2  368500\n",
            "40  2238  3  329900\n",
            "41  2567  4  314000\n",
            "42  1200  3  299000\n",
            "43   852  2  179900\n",
            "44  1852  4  299900\n",
            "45  1203  3  239500\n"
          ]
        }
      ]
    },
    {
      "cell_type": "markdown",
      "source": [
        " Dữ liệu được chuẩn hóa theo công thức mean normalization"
      ],
      "metadata": {
        "id": "hmViq45XLygf"
      }
    },
    {
      "cell_type": "code",
      "source": [
        "import pandas as pd\n",
        "housing = pd.read_csv(\"/content/ex1data2.txt\")\n",
        "d = preprocessing.normalize(housing, axis=0)\n",
        "scaled_df1 = pd.DataFrame(d, columns=names)\n",
        "scaled_df1.head()\n"
      ],
      "metadata": {
        "colab": {
          "base_uri": "https://localhost:8080/",
          "height": 206
        },
        "id": "SusQB8IOItGt",
        "outputId": "44b2c563-93f1-49ee-cd86-5a4f65e3ad13"
      },
      "execution_count": 49,
      "outputs": [
        {
          "output_type": "execute_result",
          "data": {
            "text/plain": [
              "       2104         3    399900\n",
              "0  0.109694  0.135526  0.134617\n",
              "1  0.164541  0.135526  0.150572\n",
              "2  0.097079  0.090351  0.094669\n",
              "3  0.205676  0.180702  0.220309\n",
              "4  0.136089  0.180702  0.122376"
            ],
            "text/html": [
              "\n",
              "  <div id=\"df-b3a9a2a0-6e75-43b1-8c8b-ef027811f401\">\n",
              "    <div class=\"colab-df-container\">\n",
              "      <div>\n",
              "<style scoped>\n",
              "    .dataframe tbody tr th:only-of-type {\n",
              "        vertical-align: middle;\n",
              "    }\n",
              "\n",
              "    .dataframe tbody tr th {\n",
              "        vertical-align: top;\n",
              "    }\n",
              "\n",
              "    .dataframe thead th {\n",
              "        text-align: right;\n",
              "    }\n",
              "</style>\n",
              "<table border=\"1\" class=\"dataframe\">\n",
              "  <thead>\n",
              "    <tr style=\"text-align: right;\">\n",
              "      <th></th>\n",
              "      <th>2104</th>\n",
              "      <th>3</th>\n",
              "      <th>399900</th>\n",
              "    </tr>\n",
              "  </thead>\n",
              "  <tbody>\n",
              "    <tr>\n",
              "      <th>0</th>\n",
              "      <td>0.109694</td>\n",
              "      <td>0.135526</td>\n",
              "      <td>0.134617</td>\n",
              "    </tr>\n",
              "    <tr>\n",
              "      <th>1</th>\n",
              "      <td>0.164541</td>\n",
              "      <td>0.135526</td>\n",
              "      <td>0.150572</td>\n",
              "    </tr>\n",
              "    <tr>\n",
              "      <th>2</th>\n",
              "      <td>0.097079</td>\n",
              "      <td>0.090351</td>\n",
              "      <td>0.094669</td>\n",
              "    </tr>\n",
              "    <tr>\n",
              "      <th>3</th>\n",
              "      <td>0.205676</td>\n",
              "      <td>0.180702</td>\n",
              "      <td>0.220309</td>\n",
              "    </tr>\n",
              "    <tr>\n",
              "      <th>4</th>\n",
              "      <td>0.136089</td>\n",
              "      <td>0.180702</td>\n",
              "      <td>0.122376</td>\n",
              "    </tr>\n",
              "  </tbody>\n",
              "</table>\n",
              "</div>\n",
              "      <button class=\"colab-df-convert\" onclick=\"convertToInteractive('df-b3a9a2a0-6e75-43b1-8c8b-ef027811f401')\"\n",
              "              title=\"Convert this dataframe to an interactive table.\"\n",
              "              style=\"display:none;\">\n",
              "        \n",
              "  <svg xmlns=\"http://www.w3.org/2000/svg\" height=\"24px\"viewBox=\"0 0 24 24\"\n",
              "       width=\"24px\">\n",
              "    <path d=\"M0 0h24v24H0V0z\" fill=\"none\"/>\n",
              "    <path d=\"M18.56 5.44l.94 2.06.94-2.06 2.06-.94-2.06-.94-.94-2.06-.94 2.06-2.06.94zm-11 1L8.5 8.5l.94-2.06 2.06-.94-2.06-.94L8.5 2.5l-.94 2.06-2.06.94zm10 10l.94 2.06.94-2.06 2.06-.94-2.06-.94-.94-2.06-.94 2.06-2.06.94z\"/><path d=\"M17.41 7.96l-1.37-1.37c-.4-.4-.92-.59-1.43-.59-.52 0-1.04.2-1.43.59L10.3 9.45l-7.72 7.72c-.78.78-.78 2.05 0 2.83L4 21.41c.39.39.9.59 1.41.59.51 0 1.02-.2 1.41-.59l7.78-7.78 2.81-2.81c.8-.78.8-2.07 0-2.86zM5.41 20L4 18.59l7.72-7.72 1.47 1.35L5.41 20z\"/>\n",
              "  </svg>\n",
              "      </button>\n",
              "      \n",
              "  <style>\n",
              "    .colab-df-container {\n",
              "      display:flex;\n",
              "      flex-wrap:wrap;\n",
              "      gap: 12px;\n",
              "    }\n",
              "\n",
              "    .colab-df-convert {\n",
              "      background-color: #E8F0FE;\n",
              "      border: none;\n",
              "      border-radius: 50%;\n",
              "      cursor: pointer;\n",
              "      display: none;\n",
              "      fill: #1967D2;\n",
              "      height: 32px;\n",
              "      padding: 0 0 0 0;\n",
              "      width: 32px;\n",
              "    }\n",
              "\n",
              "    .colab-df-convert:hover {\n",
              "      background-color: #E2EBFA;\n",
              "      box-shadow: 0px 1px 2px rgba(60, 64, 67, 0.3), 0px 1px 3px 1px rgba(60, 64, 67, 0.15);\n",
              "      fill: #174EA6;\n",
              "    }\n",
              "\n",
              "    [theme=dark] .colab-df-convert {\n",
              "      background-color: #3B4455;\n",
              "      fill: #D2E3FC;\n",
              "    }\n",
              "\n",
              "    [theme=dark] .colab-df-convert:hover {\n",
              "      background-color: #434B5C;\n",
              "      box-shadow: 0px 1px 3px 1px rgba(0, 0, 0, 0.15);\n",
              "      filter: drop-shadow(0px 1px 2px rgba(0, 0, 0, 0.3));\n",
              "      fill: #FFFFFF;\n",
              "    }\n",
              "  </style>\n",
              "\n",
              "      <script>\n",
              "        const buttonEl =\n",
              "          document.querySelector('#df-b3a9a2a0-6e75-43b1-8c8b-ef027811f401 button.colab-df-convert');\n",
              "        buttonEl.style.display =\n",
              "          google.colab.kernel.accessAllowed ? 'block' : 'none';\n",
              "\n",
              "        async function convertToInteractive(key) {\n",
              "          const element = document.querySelector('#df-b3a9a2a0-6e75-43b1-8c8b-ef027811f401');\n",
              "          const dataTable =\n",
              "            await google.colab.kernel.invokeFunction('convertToInteractive',\n",
              "                                                     [key], {});\n",
              "          if (!dataTable) return;\n",
              "\n",
              "          const docLinkHtml = 'Like what you see? Visit the ' +\n",
              "            '<a target=\"_blank\" href=https://colab.research.google.com/notebooks/data_table.ipynb>data table notebook</a>'\n",
              "            + ' to learn more about interactive tables.';\n",
              "          element.innerHTML = '';\n",
              "          dataTable['output_type'] = 'display_data';\n",
              "          await google.colab.output.renderOutput(dataTable, element);\n",
              "          const docLink = document.createElement('div');\n",
              "          docLink.innerHTML = docLinkHtml;\n",
              "          element.appendChild(docLink);\n",
              "        }\n",
              "      </script>\n",
              "    </div>\n",
              "  </div>\n",
              "  "
            ]
          },
          "metadata": {},
          "execution_count": 49
        }
      ]
    },
    {
      "cell_type": "markdown",
      "source": [
        "Using MinMaxScaler() to Normalize Data in Python"
      ],
      "metadata": {
        "id": "CRoZy_BUJt2O"
      }
    },
    {
      "cell_type": "code",
      "source": [
        "housing = pd.read_csv(\"/content/ex1data2.txt\")\n",
        "scaler = preprocessing.MinMaxScaler()\n",
        "names = housing.columns\n",
        "d = scaler.fit_transform(housing)\n",
        "scaled_df2 = pd.DataFrame(d, columns=names)\n",
        "scaled_df2.head()"
      ],
      "metadata": {
        "colab": {
          "base_uri": "https://localhost:8080/",
          "height": 206
        },
        "id": "-QjuIISaJuVj",
        "outputId": "7184c958-52a8-4138-d380-4eeb611ac040"
      },
      "execution_count": 50,
      "outputs": [
        {
          "output_type": "execute_result",
          "data": {
            "text/plain": [
              "       2104     3    399900\n",
              "0  0.206288  0.50  0.301887\n",
              "1  0.426917  0.50  0.375660\n",
              "2  0.155543  0.25  0.117170\n",
              "3  0.592388  0.75  0.698113\n",
              "4  0.312466  0.75  0.245283"
            ],
            "text/html": [
              "\n",
              "  <div id=\"df-eb98d603-49b9-46bd-8aeb-f3f1881465dd\">\n",
              "    <div class=\"colab-df-container\">\n",
              "      <div>\n",
              "<style scoped>\n",
              "    .dataframe tbody tr th:only-of-type {\n",
              "        vertical-align: middle;\n",
              "    }\n",
              "\n",
              "    .dataframe tbody tr th {\n",
              "        vertical-align: top;\n",
              "    }\n",
              "\n",
              "    .dataframe thead th {\n",
              "        text-align: right;\n",
              "    }\n",
              "</style>\n",
              "<table border=\"1\" class=\"dataframe\">\n",
              "  <thead>\n",
              "    <tr style=\"text-align: right;\">\n",
              "      <th></th>\n",
              "      <th>2104</th>\n",
              "      <th>3</th>\n",
              "      <th>399900</th>\n",
              "    </tr>\n",
              "  </thead>\n",
              "  <tbody>\n",
              "    <tr>\n",
              "      <th>0</th>\n",
              "      <td>0.206288</td>\n",
              "      <td>0.50</td>\n",
              "      <td>0.301887</td>\n",
              "    </tr>\n",
              "    <tr>\n",
              "      <th>1</th>\n",
              "      <td>0.426917</td>\n",
              "      <td>0.50</td>\n",
              "      <td>0.375660</td>\n",
              "    </tr>\n",
              "    <tr>\n",
              "      <th>2</th>\n",
              "      <td>0.155543</td>\n",
              "      <td>0.25</td>\n",
              "      <td>0.117170</td>\n",
              "    </tr>\n",
              "    <tr>\n",
              "      <th>3</th>\n",
              "      <td>0.592388</td>\n",
              "      <td>0.75</td>\n",
              "      <td>0.698113</td>\n",
              "    </tr>\n",
              "    <tr>\n",
              "      <th>4</th>\n",
              "      <td>0.312466</td>\n",
              "      <td>0.75</td>\n",
              "      <td>0.245283</td>\n",
              "    </tr>\n",
              "  </tbody>\n",
              "</table>\n",
              "</div>\n",
              "      <button class=\"colab-df-convert\" onclick=\"convertToInteractive('df-eb98d603-49b9-46bd-8aeb-f3f1881465dd')\"\n",
              "              title=\"Convert this dataframe to an interactive table.\"\n",
              "              style=\"display:none;\">\n",
              "        \n",
              "  <svg xmlns=\"http://www.w3.org/2000/svg\" height=\"24px\"viewBox=\"0 0 24 24\"\n",
              "       width=\"24px\">\n",
              "    <path d=\"M0 0h24v24H0V0z\" fill=\"none\"/>\n",
              "    <path d=\"M18.56 5.44l.94 2.06.94-2.06 2.06-.94-2.06-.94-.94-2.06-.94 2.06-2.06.94zm-11 1L8.5 8.5l.94-2.06 2.06-.94-2.06-.94L8.5 2.5l-.94 2.06-2.06.94zm10 10l.94 2.06.94-2.06 2.06-.94-2.06-.94-.94-2.06-.94 2.06-2.06.94z\"/><path d=\"M17.41 7.96l-1.37-1.37c-.4-.4-.92-.59-1.43-.59-.52 0-1.04.2-1.43.59L10.3 9.45l-7.72 7.72c-.78.78-.78 2.05 0 2.83L4 21.41c.39.39.9.59 1.41.59.51 0 1.02-.2 1.41-.59l7.78-7.78 2.81-2.81c.8-.78.8-2.07 0-2.86zM5.41 20L4 18.59l7.72-7.72 1.47 1.35L5.41 20z\"/>\n",
              "  </svg>\n",
              "      </button>\n",
              "      \n",
              "  <style>\n",
              "    .colab-df-container {\n",
              "      display:flex;\n",
              "      flex-wrap:wrap;\n",
              "      gap: 12px;\n",
              "    }\n",
              "\n",
              "    .colab-df-convert {\n",
              "      background-color: #E8F0FE;\n",
              "      border: none;\n",
              "      border-radius: 50%;\n",
              "      cursor: pointer;\n",
              "      display: none;\n",
              "      fill: #1967D2;\n",
              "      height: 32px;\n",
              "      padding: 0 0 0 0;\n",
              "      width: 32px;\n",
              "    }\n",
              "\n",
              "    .colab-df-convert:hover {\n",
              "      background-color: #E2EBFA;\n",
              "      box-shadow: 0px 1px 2px rgba(60, 64, 67, 0.3), 0px 1px 3px 1px rgba(60, 64, 67, 0.15);\n",
              "      fill: #174EA6;\n",
              "    }\n",
              "\n",
              "    [theme=dark] .colab-df-convert {\n",
              "      background-color: #3B4455;\n",
              "      fill: #D2E3FC;\n",
              "    }\n",
              "\n",
              "    [theme=dark] .colab-df-convert:hover {\n",
              "      background-color: #434B5C;\n",
              "      box-shadow: 0px 1px 3px 1px rgba(0, 0, 0, 0.15);\n",
              "      filter: drop-shadow(0px 1px 2px rgba(0, 0, 0, 0.3));\n",
              "      fill: #FFFFFF;\n",
              "    }\n",
              "  </style>\n",
              "\n",
              "      <script>\n",
              "        const buttonEl =\n",
              "          document.querySelector('#df-eb98d603-49b9-46bd-8aeb-f3f1881465dd button.colab-df-convert');\n",
              "        buttonEl.style.display =\n",
              "          google.colab.kernel.accessAllowed ? 'block' : 'none';\n",
              "\n",
              "        async function convertToInteractive(key) {\n",
              "          const element = document.querySelector('#df-eb98d603-49b9-46bd-8aeb-f3f1881465dd');\n",
              "          const dataTable =\n",
              "            await google.colab.kernel.invokeFunction('convertToInteractive',\n",
              "                                                     [key], {});\n",
              "          if (!dataTable) return;\n",
              "\n",
              "          const docLinkHtml = 'Like what you see? Visit the ' +\n",
              "            '<a target=\"_blank\" href=https://colab.research.google.com/notebooks/data_table.ipynb>data table notebook</a>'\n",
              "            + ' to learn more about interactive tables.';\n",
              "          element.innerHTML = '';\n",
              "          dataTable['output_type'] = 'display_data';\n",
              "          await google.colab.output.renderOutput(dataTable, element);\n",
              "          const docLink = document.createElement('div');\n",
              "          docLink.innerHTML = docLinkHtml;\n",
              "          element.appendChild(docLink);\n",
              "        }\n",
              "      </script>\n",
              "    </div>\n",
              "  </div>\n",
              "  "
            ]
          },
          "metadata": {},
          "execution_count": 50
        }
      ]
    },
    {
      "cell_type": "markdown",
      "source": [
        "So sánh kết quả của w_optimal trong các trường hợp nêu trên"
      ],
      "metadata": {
        "id": "HC50unwBQbmj"
      }
    },
    {
      "cell_type": "code",
      "source": [
        "print(scaled_df1.iloc[:,-1].head(5))\n",
        "print(scaled_df2.iloc[:,-1].head(5))\n",
        "print(f1.iloc[:,:1].head(5))"
      ],
      "metadata": {
        "colab": {
          "base_uri": "https://localhost:8080/"
        },
        "id": "XiTmW6q1NrN_",
        "outputId": "6564c291-86aa-4016-aae4-04f54a800250"
      },
      "execution_count": 87,
      "outputs": [
        {
          "output_type": "stream",
          "name": "stdout",
          "text": [
            "0    0.134617\n",
            "1    0.150572\n",
            "2    0.094669\n",
            "3    0.220309\n",
            "4    0.122376\n",
            "Name: 399900, dtype: float64\n",
            "0    0.301887\n",
            "1    0.375660\n",
            "2    0.117170\n",
            "3    0.698113\n",
            "4    0.245283\n",
            "Name: 399900, dtype: float64\n",
            "   2104\n",
            "0  1600\n",
            "1  2400\n",
            "2  1416\n",
            "3  3000\n",
            "4  1985\n"
          ]
        }
      ]
    },
    {
      "cell_type": "code",
      "source": [],
      "metadata": {
        "id": "56C9-S2yOdD_"
      },
      "execution_count": null,
      "outputs": []
    }
  ]
}